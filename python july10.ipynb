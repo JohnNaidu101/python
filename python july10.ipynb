{
 "cells": [
  {
   "cell_type": "markdown",
   "metadata": {},
   "source": [
    "### Tuples\n",
    "* t1 parenthesis() li square brackets[]\n",
    "* Difference between list and tuples\n",
    "* list are mutable - can be changed/modified\n",
    "* Used to access modify,add,delete data\n",
    "* Tuples are immutable - cannot be changed\n",
    "* Used to access data only"
   ]
  },
  {
   "cell_type": "code",
   "execution_count": 14,
   "metadata": {},
   "outputs": [
    {
     "data": {
      "text/plain": [
       "tuple"
      ]
     },
     "execution_count": 14,
     "metadata": {},
     "output_type": "execute_result"
    }
   ],
   "source": [
    "t1 = (1,2,3,4,5,6)\n",
    "t1\n",
    "type(t1)"
   ]
  },
  {
   "cell_type": "markdown",
   "metadata": {},
   "source": [
    "# Data Structures\n",
    "* Dictionaries"
   ]
  },
  {
   "cell_type": "markdown",
   "metadata": {},
   "source": [
    "### Dictionaries\n",
    "* It works on the concept of set unique data\n",
    "* Keys,Values is the unique identifier for a value\n",
    "* Each key is separated from its value with colon(:)\n",
    "* Each key and value is separated by comma(,)\n",
    "* Dictionaries enclosed with curly braces({})"
   ]
  },
  {
   "cell_type": "code",
   "execution_count": 3,
   "metadata": {},
   "outputs": [
    {
     "name": "stdout",
     "output_type": "stream",
     "text": [
      "{'Name': 'Gitam', 'Emailid': 'gitam@gmail.com', 'Address': 'Hyderabad'}\n"
     ]
    }
   ],
   "source": [
    "d1 = {\"Name\" : \"Gitam\",\"Emailid\":\"gitam@gmail.com\",\"Address\":\"Hyderabad\"}\n",
    "print(d1)"
   ]
  },
  {
   "cell_type": "code",
   "execution_count": 4,
   "metadata": {},
   "outputs": [
    {
     "data": {
      "text/plain": [
       "'Gitam'"
      ]
     },
     "execution_count": 4,
     "metadata": {},
     "output_type": "execute_result"
    }
   ],
   "source": [
    "d1[\"Name\"]# access specific data"
   ]
  },
  {
   "cell_type": "code",
   "execution_count": 5,
   "metadata": {},
   "outputs": [
    {
     "data": {
      "text/plain": [
       "'Gitam-python@gmail.com'"
      ]
     },
     "execution_count": 5,
     "metadata": {},
     "output_type": "execute_result"
    }
   ],
   "source": [
    "d1['Emailid'] = 'Gitam-python@gmail.com'#update the data\n",
    "d1['Emailid']"
   ]
  },
  {
   "cell_type": "code",
   "execution_count": 6,
   "metadata": {},
   "outputs": [
    {
     "data": {
      "text/plain": [
       "{'Name': 'Gitam', 'Address': 'Hyderabad'}"
      ]
     },
     "execution_count": 6,
     "metadata": {},
     "output_type": "execute_result"
    }
   ],
   "source": [
    "del d1['Emailid']#del the specific key value\n",
    "d1"
   ]
  },
  {
   "cell_type": "code",
   "execution_count": 8,
   "metadata": {},
   "outputs": [
    {
     "data": {
      "text/plain": [
       "dict_keys(['Name', 'Address'])"
      ]
     },
     "execution_count": 8,
     "metadata": {},
     "output_type": "execute_result"
    }
   ],
   "source": [
    "d1.keys()# returns the list of keys\n",
    "\n"
   ]
  },
  {
   "cell_type": "code",
   "execution_count": 10,
   "metadata": {},
   "outputs": [
    {
     "data": {
      "text/plain": [
       "dict_values(['Gitam', 'Hyderabad'])"
      ]
     },
     "execution_count": 10,
     "metadata": {},
     "output_type": "execute_result"
    }
   ],
   "source": [
    "d1.values()#returns the values"
   ]
  },
  {
   "cell_type": "code",
   "execution_count": 12,
   "metadata": {},
   "outputs": [
    {
     "data": {
      "text/plain": [
       "dict_items([('Name', 'Gitam'), ('Address', 'Hyderabad')])"
      ]
     },
     "execution_count": 12,
     "metadata": {},
     "output_type": "execute_result"
    }
   ],
   "source": [
    "d1.items()#the list of tuples of keys and valus"
   ]
  },
  {
   "cell_type": "markdown",
   "metadata": {},
   "source": [
    "### CONTACT APPLICATION\n",
    "* Add contact\n",
    "* search the contact\n",
    "* List ALL contacts\n",
    "* name1:phone1\n",
    "* name2:phone2\n",
    "* Modify the contact\n",
    "* Remove the contact\n",
    "* Import the contact\n"
   ]
  },
  {
   "cell_type": "code",
   "execution_count": 17,
   "metadata": {},
   "outputs": [
    {
     "name": "stdout",
     "output_type": "stream",
     "text": [
      "COntact is details are added\n",
      "COntact is details are added\n",
      "Contact details are already exists\n"
     ]
    }
   ],
   "source": [
    "# Add contact\n",
    "contacts = {}# creating a dict object\n",
    "def addContact(name,phone):\n",
    "    if name not in contacts:\n",
    "        contacts[name] = phone\n",
    "        print(\"COntact is details are added\")\n",
    "    else:\n",
    "        print(\"Contact details are already exists\")\n",
    "    return\n",
    "addContact('Anil','9876543210')\n",
    "addContact('Naveen','9966552211')\n",
    "addContact('Anil','9876543210')"
   ]
  },
  {
   "cell_type": "code",
   "execution_count": 18,
   "metadata": {},
   "outputs": [
    {
     "data": {
      "text/plain": [
       "{'Anil': '9876543210', 'Naveen': '9966552211'}"
      ]
     },
     "execution_count": 18,
     "metadata": {},
     "output_type": "execute_result"
    }
   ],
   "source": [
    "contacts"
   ]
  },
  {
   "cell_type": "code",
   "execution_count": 19,
   "metadata": {},
   "outputs": [
    {
     "name": "stdout",
     "output_type": "stream",
     "text": [
      "Anil : 9876543210\n",
      "Harsha does not exists\n",
      "Naveen : 9966552211\n"
     ]
    }
   ],
   "source": [
    "# Search for contact details\n",
    "def searchcontact(name):\n",
    "    if name in contacts:\n",
    "        print(name,\":\",contacts[name])\n",
    "    else:\n",
    "        print(\"%s does not exists\"% name)\n",
    "    return\n",
    "searchcontact('Anil')\n",
    "searchcontact('Harsha')\n",
    "searchcontact('Naveen')"
   ]
  },
  {
   "cell_type": "code",
   "execution_count": 22,
   "metadata": {},
   "outputs": [
    {
     "name": "stdout",
     "output_type": "stream",
     "text": [
      "2 Contacts added successfully\n"
     ]
    }
   ],
   "source": [
    "# import some contacts\n",
    "# merge the contact with existing one\n",
    "def importcontact(newcontacts):\n",
    "    contacts.update(newcontacts)\n",
    "    print(len(newcontacts.keys()),\"Contacts added successfully\")\n",
    "    return\n",
    "newcontacts = {'dinesh':9988774455,'ajay':9977445566}\n",
    "importcontact(newcontacts)\n",
    "        "
   ]
  },
  {
   "cell_type": "code",
   "execution_count": 23,
   "metadata": {},
   "outputs": [
    {
     "data": {
      "text/plain": [
       "{'Anil': '9876543210',\n",
       " 'Naveen': '9966552211',\n",
       " 'dinesh': 9988774455,\n",
       " 'ajay': 9977445566}"
      ]
     },
     "execution_count": 23,
     "metadata": {},
     "output_type": "execute_result"
    }
   ],
   "source": [
    "contacts"
   ]
  },
  {
   "cell_type": "code",
   "execution_count": 24,
   "metadata": {},
   "outputs": [
    {
     "name": "stdout",
     "output_type": "stream",
     "text": [
      "ajay deleted successfully\n"
     ]
    }
   ],
   "source": [
    "# delete a contact\n",
    "def deletecontact(name):\n",
    "    if name in contacts:\n",
    "        del contacts[name]\n",
    "        print(name,\"deleted successfully\")\n",
    "    else:\n",
    "        print(name,\"not exists\")\n",
    "    return\n",
    "deletecontact('ajay')"
   ]
  },
  {
   "cell_type": "code",
   "execution_count": 26,
   "metadata": {},
   "outputs": [
    {
     "name": "stdout",
     "output_type": "stream",
     "text": [
      "anil Not exists\n",
      "ajay Not exists\n"
     ]
    }
   ],
   "source": [
    "# update the contact details\n",
    "def deletecontact(name,phone):\n",
    "    if name in contacts:\n",
    "        contacts[name] = phone\n",
    "        print(name,\"Updated successfully\")\n",
    "    else:\n",
    "        print(name,\"Not exists\")\n",
    "    return\n",
    "deletecontact('anil',9988774455)\n",
    "deletecontact('ajay',9988665544)"
   ]
  },
  {
   "cell_type": "code",
   "execution_count": 27,
   "metadata": {},
   "outputs": [
    {
     "name": "stdout",
     "output_type": "stream",
     "text": [
      "morning\n"
     ]
    }
   ],
   "source": [
    "# assessment-4\n",
    "4. The program must accept a string S as the input. The program print the longest word from the string S as the output. If two or more longest words are of same length then consider the first one.\n",
    "s1 = [\"gitam mornig\"]\n",
    "a = \"good\"\n",
    "b = \"morning\"\n",
    "if len(a)>=len(b):\n",
    "    print(\"good\")\n",
    "else:\n",
    "    print(\"morning\")"
   ]
  },
  {
   "cell_type": "code",
   "execution_count": 33,
   "metadata": {},
   "outputs": [
    {
     "name": "stdout",
     "output_type": "stream",
     "text": [
      "3 2 1 1 0 "
     ]
    }
   ],
   "source": [
    "# fibnacci series\n",
    "\n",
    "def reverseFibonacci(n): \n",
    "  \n",
    "   a = [0] * n  \n",
    " \n",
    "   \n",
    "   a[0] = 0 \n",
    "   a[1] = 1 \n",
    " \n",
    "   for i in range(2, n):   \n",
    " \n",
    "       # storing sum in the \n",
    "       # preceding location \n",
    "       a[i] = a[i - 2] + a[i - 1]  \n",
    "      \n",
    " \n",
    "   for i in range(n - 1, -1 , -1):   \n",
    " \n",
    "       # printing array in \n",
    "       # reverse order \n",
    "       print(a[i],end=\" \")  \n",
    "      \n",
    "  # Driver function \n",
    "n = 5 \n",
    "reverseFibonacci(n)\n"
   ]
  },
  {
   "cell_type": "code",
   "execution_count": 40,
   "metadata": {},
   "outputs": [
    {
     "name": "stdout",
     "output_type": "stream",
     "text": [
      "1\n",
      "2\n",
      "4\n",
      "8\n",
      "16\n",
      "32\n",
      "64\n",
      "128\n",
      "256\n",
      "512\n"
     ]
    }
   ],
   "source": [
    "def  threepow(n):\n",
    "    for i in range(n):\n",
    "        k=3**i\n",
    "        print(k)\n",
    "    return\n",
    "twopow(10)\n"
   ]
  },
  {
   "cell_type": "code",
   "execution_count": 34,
   "metadata": {},
   "outputs": [
    {
     "name": "stdout",
     "output_type": "stream",
     "text": [
      "1\n",
      "2\n",
      "4\n",
      "8\n",
      "16\n",
      "32\n",
      "64\n",
      "128\n",
      "256\n",
      "512\n"
     ]
    }
   ],
   "source": [
    "def twopow(n):\n",
    "    for i in range(n):\n",
    "        k=2**i\n",
    "         print(k)\n",
    "    return\n",
    "twopow(10)\n"
   ]
  },
  {
   "cell_type": "code",
   "execution_count": 41,
   "metadata": {},
   "outputs": [
    {
     "name": "stdout",
     "output_type": "stream",
     "text": [
      "python programming\n"
     ]
    }
   ],
   "source": [
    "# classical version\n",
    "li= [\"python\",\"programming\"]\n",
    "print(\"%s %s\" % (li[0],li[1]))"
   ]
  },
  {
   "cell_type": "code",
   "execution_count": 42,
   "metadata": {},
   "outputs": [
    {
     "name": "stdout",
     "output_type": "stream",
     "text": [
      "python programming\n"
     ]
    }
   ],
   "source": [
    "print(\"{0} {1}\".format(li[0],li[1]))"
   ]
  },
  {
   "cell_type": "code",
   "execution_count": 44,
   "metadata": {},
   "outputs": [
    {
     "name": "stdout",
     "output_type": "stream",
     "text": [
      "1 2 3 4\n"
     ]
    }
   ],
   "source": [
    "li1 = [1,2,3,4]\n",
    "print(\"%d %d %d %d\" % (li1[0],li1[1],li1[2],li1[3]))"
   ]
  },
  {
   "cell_type": "code",
   "execution_count": 46,
   "metadata": {},
   "outputs": [
    {
     "name": "stdout",
     "output_type": "stream",
     "text": [
      "1 2 3 4\n"
     ]
    }
   ],
   "source": [
    "print(\"{0} {1} {2} {3}\".format(li1[0],li1[1],li1[2],li1[3]))"
   ]
  },
  {
   "cell_type": "markdown",
   "metadata": {},
   "source": [
    "### String Functions\n",
    "* upper()--will converts the given string to uppercase\n",
    "* lower()--will converts the given string to lowercase"
   ]
  },
  {
   "cell_type": "code",
   "execution_count": 47,
   "metadata": {},
   "outputs": [
    {
     "name": "stdout",
     "output_type": "stream",
     "text": [
      "GITAM\n",
      "gitam\n"
     ]
    }
   ],
   "source": [
    "s1 = 'gitam'\n",
    "print(s1.upper())\n",
    "print(s1.lower())"
   ]
  },
  {
   "cell_type": "markdown",
   "metadata": {},
   "source": [
    "# ## Boolean Function(True and False)\n",
    "* islower()---True if the string is lower case/false if string not in lowercase\n",
    "* isupper()---true if the string in uppercase/false if string not in uppercase\n",
    "* istittle()---true if the string followstittle case/false\n",
    "* isalpha()---true if te=hr string contains only alphabets/false\n",
    "* isnumeric()--true if the string contains only numbers/false\n",
    "* isspace()---true if the string contains only space/false"
   ]
  },
  {
   "cell_type": "code",
   "execution_count": 49,
   "metadata": {},
   "outputs": [
    {
     "name": "stdout",
     "output_type": "stream",
     "text": [
      "False\n",
      "True\n"
     ]
    }
   ],
   "source": [
    "s1 = 'GITAM'\n",
    "print(s1.islower())\n",
    "print(s1.isupper())"
   ]
  },
  {
   "cell_type": "code",
   "execution_count": 52,
   "metadata": {},
   "outputs": [
    {
     "name": "stdout",
     "output_type": "stream",
     "text": [
      "True\n",
      "False\n"
     ]
    }
   ],
   "source": [
    "s2 = \"Python Programming\"\n",
    "s3 = \"python programming\"\n",
    "print(s2.istitle())\n",
    "print(s3.istitle())"
   ]
  },
  {
   "cell_type": "code",
   "execution_count": 53,
   "metadata": {},
   "outputs": [
    {
     "name": "stdout",
     "output_type": "stream",
     "text": [
      "False\n",
      "True\n"
     ]
    }
   ],
   "source": [
    "s2 = \"Application1889\"\n",
    "s3 = 'PythonProgramming'\n",
    "print(s2.isalpha())\n",
    "print(s3.isalpha())"
   ]
  },
  {
   "cell_type": "code",
   "execution_count": 54,
   "metadata": {},
   "outputs": [
    {
     "name": "stdout",
     "output_type": "stream",
     "text": [
      "True\n",
      "False\n"
     ]
    }
   ],
   "source": [
    "s1 = \"1234\"\n",
    "s2 = \"Application1234\"\n",
    "print(s1.isnumeric())\n",
    "print(s2.isnumeric())"
   ]
  },
  {
   "cell_type": "code",
   "execution_count": 55,
   "metadata": {},
   "outputs": [
    {
     "name": "stdout",
     "output_type": "stream",
     "text": [
      "True\n",
      "False\n"
     ]
    }
   ],
   "source": [
    "s1 = \" \"\n",
    "s2 = \"py th on\"\n",
    "print(s1.isspace())\n",
    "print(s2.isspace())"
   ]
  },
  {
   "cell_type": "markdown",
   "metadata": {},
   "source": [
    "### String Methods\n",
    "* 1.join()--Method will concatinates the two strings\n",
    "* 2.split()--split returns the list of strings separated by whitespace(parameters are given)\n",
    "* 3.replace()---replace the specific word/charactor"
   ]
  },
  {
   "cell_type": "code",
   "execution_count": 57,
   "metadata": {},
   "outputs": [
    {
     "name": "stdout",
     "output_type": "stream",
     "text": [
      "p y t h o n\n"
     ]
    }
   ],
   "source": [
    "s1 = 'python'\n",
    "print(\" \".join(s1))"
   ]
  },
  {
   "cell_type": "code",
   "execution_count": 58,
   "metadata": {},
   "outputs": [
    {
     "name": "stdout",
     "output_type": "stream",
     "text": [
      "P,y,t,h,o,n, ,P,r,o,g,r,a,m,m,i,n,g, ,E,a,s,y, ,t,o, ,l,e,a,r,n\n"
     ]
    }
   ],
   "source": [
    "s2 = \"Python Programming Easy to learn\"\n",
    "print(\",\".join(s2))"
   ]
  },
  {
   "cell_type": "code",
   "execution_count": 61,
   "metadata": {},
   "outputs": [
    {
     "name": "stdout",
     "output_type": "stream",
     "text": [
      "Python,programming,learn\n"
     ]
    }
   ],
   "source": [
    "li = ['Python','programming','learn']\n",
    "print(\",\".join(li))"
   ]
  },
  {
   "cell_type": "code",
   "execution_count": 62,
   "metadata": {},
   "outputs": [
    {
     "name": "stdout",
     "output_type": "stream",
     "text": [
      "['Python', 'Programming', 'Easy', 'to', 'learn']\n"
     ]
    }
   ],
   "source": [
    "s2 = \"Python Programming Easy to learn\"\n",
    "print(s2.split())"
   ]
  },
  {
   "cell_type": "code",
   "execution_count": 65,
   "metadata": {},
   "outputs": [
    {
     "name": "stdout",
     "output_type": "stream",
     "text": [
      "['Python', 'Programming', 'Easy', 'to', 'learn']\n",
      "5\n"
     ]
    }
   ],
   "source": [
    "s2 = \"Python Programming Easy to learn\"\n",
    "li = s2.split()\n",
    "print(li)\n",
    "print(len(li))"
   ]
  },
  {
   "cell_type": "code",
   "execution_count": 66,
   "metadata": {},
   "outputs": [
    {
     "name": "stdout",
     "output_type": "stream",
     "text": [
      "['P', 'y', 't', 'h', 'o', 'n', ' ', 'P', 'r', 'o', 'g', 'r', 'a', 'm', 'm', 'i', 'n', 'g', ' ', 'E', 'a', 's', 'y', ' ', 't', 'o', ' ', 'l', 'e', 'a', 'r', 'n']\n"
     ]
    }
   ],
   "source": [
    "s2 = \"Python Programming Easy to learn\"\n",
    "li = list(s2)\n",
    "print(li)"
   ]
  },
  {
   "cell_type": "code",
   "execution_count": 67,
   "metadata": {},
   "outputs": [
    {
     "name": "stdout",
     "output_type": "stream",
     "text": [
      "Python ProApplicationmming Easy to learn\n"
     ]
    }
   ],
   "source": [
    "s2 = \"Python Programming Easy to learn\"\n",
    "print(s2.replace(\"gra\",\"Application\"))"
   ]
  },
  {
   "cell_type": "code",
   "execution_count": 72,
   "metadata": {},
   "outputs": [
    {
     "name": "stdout",
     "output_type": "stream",
     "text": [
      "1\n",
      "3\n",
      "8\n",
      "15\n",
      "27\n",
      "50\n",
      "92\n",
      "169\n",
      "311\n",
      "572\n",
      "1052\n",
      "1935\n"
     ]
    }
   ],
   "source": [
    "#12. Series Generations:-  1 3 8 15 27 50 92 169 311\n",
    "def generateseries(n):\n",
    "    a=1\n",
    "    b=3\n",
    "    c=4\n",
    "    print(a)\n",
    "    print(b)\n",
    "    for i in range(n):\n",
    "        sum=a+b+c\n",
    "        a=b\n",
    "        b=c\n",
    "        c=sum\n",
    "        print(sum)\n",
    "    return\n",
    "generateseries(10)\n"
   ]
  },
  {
   "cell_type": "code",
   "execution_count": 73,
   "metadata": {},
   "outputs": [
    {
     "name": "stdout",
     "output_type": "stream",
     "text": [
      "2 15 41 80 132 197 275 366 470 587 "
     ]
    }
   ],
   "source": [
    "##13. Series Generations:-  2 15 41 80 132 197 275 366 470 587\n",
    "def series(n):\n",
    "    m=2\n",
    "    for i in range(n):\n",
    "        r=13*i+m\n",
    "        print(r,end=\" \")\n",
    "        m=r\n",
    "    return\n",
    "series(10)\n"
   ]
  },
  {
   "cell_type": "code",
   "execution_count": 75,
   "metadata": {},
   "outputs": [
    {
     "name": "stdout",
     "output_type": "stream",
     "text": [
      "enter n value10\n",
      "1 !+ 2 !+ 3 !+ 4 !+ 5 !+ 6 !+ 7 !+ 8 !+ 9 !+ "
     ]
    }
   ],
   "source": [
    "##14. Series Generations:-  1! + 2! + 3! + 4! + 5! + ... + n!\n",
    "#1! + 2! + 3! + 4! + 5! + ... + n!\n",
    "n=int(input(\"enter n value\"))\n",
    "for x in range(1,n):\n",
    "    print(x,\"!+\",end=\" \")\n"
   ]
  },
  {
   "cell_type": "markdown",
   "metadata": {},
   "source": [
    "### imports "
   ]
  },
  {
   "cell_type": "code",
   "execution_count": 76,
   "metadata": {},
   "outputs": [
    {
     "data": {
      "text/plain": [
       "123"
      ]
     },
     "execution_count": 76,
     "metadata": {},
     "output_type": "execute_result"
    }
   ],
   "source": [
    "# import the externals packages to python file\n",
    "import math\n",
    "math.floor(123.45)"
   ]
  },
  {
   "cell_type": "code",
   "execution_count": 77,
   "metadata": {},
   "outputs": [
    {
     "data": {
      "text/plain": [
       "120"
      ]
     },
     "execution_count": 77,
     "metadata": {},
     "output_type": "execute_result"
    }
   ],
   "source": [
    "from math import factorial as fact\n",
    "fact(5)"
   ]
  },
  {
   "cell_type": "code",
   "execution_count": 79,
   "metadata": {},
   "outputs": [
    {
     "name": "stdout",
     "output_type": "stream",
     "text": [
      "37 52 91 94 97 100 78 62 30 0 "
     ]
    }
   ],
   "source": [
    "# Function to generate n random numbers in given range\n",
    "import random\n",
    "def randomnnumbers(n,lb,ub):\n",
    "    for i in range (0,n):\n",
    "        print(random.randint(lb,ub),end=\" \")\n",
    "    return\n",
    "randomnnumbers(10,0,100)       "
   ]
  },
  {
   "cell_type": "code",
   "execution_count": 4,
   "metadata": {},
   "outputs": [
    {
     "data": {
      "text/plain": [
       "'Try once again!!!'"
      ]
     },
     "execution_count": 4,
     "metadata": {},
     "output_type": "execute_result"
    }
   ],
   "source": [
    "# create a simple game\n",
    "# generate 20 random numbers 0 to 500\n",
    "# input : number\n",
    "# output : congrats!!\n",
    "#          try once again!!!\n",
    "def generatenumbers(n,lb,ub):\n",
    "    li = []\n",
    "    for i in range (0,n):\n",
    "        li.append(random.randint(lb,ub))\n",
    "    return li\n",
    "def check(n):\n",
    "    if n in li:\n",
    "        return\"congrats!!!\"\n",
    "    else:\n",
    "        return \"Try once again!!!\"\n",
    "    return\n",
    "li = [1,10,20]\n",
    "check(15)"
   ]
  },
  {
   "cell_type": "code",
   "execution_count": 7,
   "metadata": {},
   "outputs": [
    {
     "name": "stdout",
     "output_type": "stream",
     "text": [
      "1\n",
      "9\n",
      "17\n",
      "33\n",
      "49\n",
      "73\n",
      "97\n",
      "129\n",
      "161\n",
      "201\n",
      "241\n"
     ]
    }
   ],
   "source": [
    "def num(n):\n",
    "    a=8\n",
    "    b=1\n",
    "    c=n//2\n",
    "    print(1)\n",
    "    for i in range(1,c+1):\n",
    "        for i in range(1,3):\n",
    "            b=b+a\n",
    "            print(b)\n",
    "        a=a+8\n",
    "    return\n",
    "num(10)\n",
    "\n"
   ]
  },
  {
   "cell_type": "code",
   "execution_count": null,
   "metadata": {},
   "outputs": [],
   "source": []
  }
 ],
 "metadata": {
  "kernelspec": {
   "display_name": "Python 3",
   "language": "python",
   "name": "python3"
  }
 },
 "nbformat": 4,
 "nbformat_minor": 2
}
