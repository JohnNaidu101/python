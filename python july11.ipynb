{
 "cells": [
  {
   "cell_type": "markdown",
   "metadata": {},
   "source": [
    "### Standard Libraries\n",
    "* file I/o\n",
    "* regular expressions\n",
    "* date Time\n",
    "* Math(numerical and mathmatical)"
   ]
  },
  {
   "cell_type": "markdown",
   "metadata": {},
   "source": [
    "### File Handling in pythin\n",
    "* FIle:- document containg information resides on the permanent storage\n",
    "* Different types of files:- txt,docs,pdf,csv and etc......\n",
    "* Input --- Keyboard\n",
    "* Output --File\n",
    "### Modes of the file l/o\n",
    "* 'W' -- this mode is used to file writing\n",
    "--if the file is not present first it creates the fileand write so me data to it"
   ]
  },
  {
   "cell_type": "code",
   "execution_count": 2,
   "metadata": {},
   "outputs": [
    {
     "name": "stdout",
     "output_type": "stream",
     "text": [
      "file is created and data has written\n"
     ]
    }
   ],
   "source": [
    "# Function to create a file and write to the file\n",
    "def createFile(filename):\n",
    "    f = open(filename,'w')\n",
    "    for i in range (10):\n",
    "        f.write('this is %d line'%i)\n",
    "    print(\"file is created and data has written\")\n",
    "    return\n",
    "createFile('file1.txt')"
   ]
  },
  {
   "cell_type": "code",
   "execution_count": 3,
   "metadata": {},
   "outputs": [
    {
     "name": "stdout",
     "output_type": "stream",
     "text": [
      " Volume in drive C has no label.\n",
      " Volume Serial Number is 90F6-AEB1\n",
      "\n",
      " Directory of C:\\Users\\STUDENT\n",
      "\n",
      "11-07-2019  09:43    <DIR>          .\n",
      "11-07-2019  09:43    <DIR>          ..\n",
      "21-06-2019  12:51    <DIR>          .anaconda\n",
      "25-06-2019  15:14             2,125 .bash_history\n",
      "29-06-2019  15:34    <DIR>          .conda\n",
      "29-06-2019  09:00                43 .condarc\n",
      "19-06-2019  15:40                20 .gitconfig\n",
      "29-06-2019  10:33    <DIR>          .idlerc\n",
      "11-07-2019  09:11    <DIR>          .ipynb_checkpoints\n",
      "21-06-2019  12:52    <DIR>          .ipython\n",
      "21-06-2019  14:39    <DIR>          .jupyter\n",
      "28-06-2019  15:49    <DIR>          .matplotlib\n",
      "21-06-2019  12:16    <DIR>          Anaconda3\n",
      "17-06-2019  11:49    <DIR>          Contacts\n",
      "22-06-2019  15:59            15,320 Control flow.ipynb\n",
      "25-06-2019  09:29    <DIR>          day 7\n",
      "25-06-2019  16:04    <DIR>          Day 8\n",
      "26-06-2019  17:25    <DIR>          Day 9\n",
      "08-07-2019  17:32    <DIR>          Desktop\n",
      "10-07-2019  16:56    <DIR>          Documents\n",
      "08-07-2019  16:48    <DIR>          Downloads\n",
      "17-06-2019  11:49    <DIR>          Favorites\n",
      "11-07-2019  09:43               140 file1.txt\n",
      "19-06-2019  12:58    <DIR>          Gitam-june-2019\n",
      "17-06-2019  11:49    <DIR>          Links\n",
      "17-06-2019  11:49    <DIR>          Music\n",
      "17-06-2019  11:49    <DIR>          Pictures\n",
      "21-06-2019  16:33    <DIR>          PYTHON\n",
      "08-07-2019  09:24               783 python - july8.ipynb\n",
      "10-07-2019  16:51            22,524 python july10.ipynb\n",
      "11-07-2019  09:43             4,706 python july11.ipynb\n",
      "09-07-2019  15:51            14,951 python july9.ipynb\n",
      "22-06-2019  09:43    <DIR>          python2\n",
      "21-06-2019  17:38             6,978 PYTHON2019.ipynb\n",
      "08-07-2019  16:04            10,712 pythosession - july8.ipynb\n",
      "17-06-2019  11:49    <DIR>          Saved Games\n",
      "17-06-2019  11:49    <DIR>          Searches\n",
      "28-06-2019  10:26    <DIR>          Untitled Folder 1\n",
      "21-06-2019  12:54               798 Untitled.ipynb\n",
      "21-06-2019  15:25               555 Untitled1.ipynb\n",
      "24-06-2019  16:48               555 Untitled2.ipynb\n",
      "24-06-2019  17:22             1,297 Untitled3.ipynb\n",
      "25-06-2019  17:31             3,898 Untitled4.ipynb\n",
      "28-06-2019  10:28               555 Untitled5.ipynb\n",
      "06-07-2019  09:17                72 Untitled6.ipynb\n",
      "29-06-2019  10:15    <DIR>          Vamshi\n",
      "17-06-2019  11:49    <DIR>          Videos\n",
      "              18 File(s)         86,032 bytes\n",
      "              29 Dir(s)  69,532,094,464 bytes free\n"
     ]
    }
   ],
   "source": [
    "ls"
   ]
  },
  {
   "cell_type": "code",
   "execution_count": 4,
   "metadata": {},
   "outputs": [
    {
     "name": "stdout",
     "output_type": "stream",
     "text": [
      "file is created and data has written\n"
     ]
    }
   ],
   "source": [
    "def createfile(filename):\n",
    "    f=open(filename,'w')\n",
    "    f.write('Testing...\\n')\n",
    "    print(\"file is created and data has written\")\n",
    "    return\n",
    "createfile('file1.txt')"
   ]
  },
  {
   "cell_type": "code",
   "execution_count": 7,
   "metadata": {},
   "outputs": [
    {
     "name": "stdout",
     "output_type": "stream",
     "text": [
      "file created and successfully data written\n"
     ]
    }
   ],
   "source": [
    "def appenddata(filename):\n",
    "    f=open(filename,'a')\n",
    "    for i in range(10):\n",
    "        f.write(\"this is %d line\\n\"% i)\n",
    "    print(\"file created and successfully data written\")\n",
    "    return\n",
    "appenddata('file2.txt')"
   ]
  },
  {
   "cell_type": "code",
   "execution_count": 10,
   "metadata": {},
   "outputs": [
    {
     "name": "stdout",
     "output_type": "stream",
     "text": [
      "file created and successfully data written\n"
     ]
    }
   ],
   "source": [
    "def appenddata(filename):\n",
    "    f = open(filename,'a')\n",
    "    f.write(\"new line 1 \\n\")\n",
    "    f.write(\"new line 2 \\n\")\n",
    "    print(\"file created and successfully data written\")\n",
    "    f.close()\n",
    "    return\n",
    "appenddata('file2.txt')"
   ]
  },
  {
   "cell_type": "code",
   "execution_count": 9,
   "metadata": {},
   "outputs": [
    {
     "name": "stdout",
     "output_type": "stream",
     "text": [
      "this is 0 line\n",
      "this is 1 line\n",
      "this is 2 line\n",
      "this is 3 line\n",
      "this is 4 line\n",
      "this is 5 line\n",
      "this is 6 line\n",
      "this is 7 line\n",
      "this is 8 line\n",
      "this is 9 line\n",
      "this is 0 line\n",
      "this is 1 line\n",
      "this is 2 line\n",
      "this is 3 line\n",
      "this is 4 line\n",
      "this is 5 line\n",
      "this is 6 line\n",
      "this is 7 line\n",
      "this is 8 line\n",
      "this is 9 line\n",
      "new line 1 \n",
      "new line 2 \n",
      "\n"
     ]
    }
   ],
   "source": [
    "# dunction to read the file\n",
    "def readfiledata(filename):\n",
    "    f = open(filename,'r')\n",
    "    if f.mode == 'r':\n",
    "        x = f.read()\n",
    "        print(x)\n",
    "    f.close()\n",
    "    return\n",
    "readfiledata('file2.txt')"
   ]
  },
  {
   "cell_type": "code",
   "execution_count": 15,
   "metadata": {},
   "outputs": [
    {
     "name": "stdout",
     "output_type": "stream",
     "text": [
      "enter the filenamepythonjuly\n",
      "enter the mode of the filer\n",
      "data to the file\n"
     ]
    }
   ],
   "source": [
    "# function to read the file\n",
    "def fileoperations(filename,mode):\n",
    "    with open(filename,mode) as f:\n",
    "        if f.mode == 'r':\n",
    "            data = f.read()\n",
    "            print(data)\n",
    "        elif f.mode == 'a':\n",
    "            f.write('data to the file')\n",
    "            print('the data successfully written')\n",
    "    f.close()\n",
    "    return\n",
    "filename = input('enter the filename')\n",
    "mode = input('enter the mode of the file')\n",
    "fileoperations(filename,mode)\n"
   ]
  },
  {
   "cell_type": "code",
   "execution_count": 4,
   "metadata": {},
   "outputs": [
    {
     "name": "stdout",
     "output_type": "stream",
     "text": [
      "enter the fiename :file2.txt\n",
      "enter the word :this\n"
     ]
    },
    {
     "data": {
      "text/plain": [
       "20"
      ]
     },
     "execution_count": 4,
     "metadata": {},
     "output_type": "execute_result"
    }
   ],
   "source": [
    "# data analysis\n",
    "# word count program\n",
    "def wordcount(filename,word):\n",
    "    with open(filename,'r') as f:\n",
    "        if f.mode == 'r':\n",
    "            x = f.read()\n",
    "            li = x.split()#it splits the string with whitespace\n",
    "    cnt = li.count(word)\n",
    "    return cnt\n",
    "filename = input('enter the fiename :')\n",
    "word = input('enter the word :')# which word count you need\n",
    "wordcount(filename,word)"
   ]
  },
  {
   "cell_type": "code",
   "execution_count": 6,
   "metadata": {},
   "outputs": [
    {
     "name": "stdout",
     "output_type": "stream",
     "text": [
      "enter the filename :file2.txt\n"
     ]
    },
    {
     "data": {
      "text/plain": [
       "348"
      ]
     },
     "execution_count": 6,
     "metadata": {},
     "output_type": "execute_result"
    }
   ],
   "source": [
    "# charactor count from the given file\n",
    "def charcount(filename):\n",
    "    with open(filename,'r') as f:\n",
    "        if f.mode == 'r':\n",
    "            x=f.read()\n",
    "            li = list(x)\n",
    "    return len(li)\n",
    "filename = input('enter the filename :')\n",
    "charcount(filename)\n"
   ]
  },
  {
   "cell_type": "code",
   "execution_count": 7,
   "metadata": {},
   "outputs": [
    {
     "name": "stdout",
     "output_type": "stream",
     "text": [
      "['python progr', 'mming']\n"
     ]
    }
   ],
   "source": [
    "s1 = \"python programming\"\n",
    "print(s1.split('a'))"
   ]
  },
  {
   "cell_type": "code",
   "execution_count": 8,
   "metadata": {},
   "outputs": [
    {
     "name": "stdout",
     "output_type": "stream",
     "text": [
      "enter filename :file2.txt\n"
     ]
    },
    {
     "data": {
      "text/plain": [
       "25"
      ]
     },
     "execution_count": 8,
     "metadata": {},
     "output_type": "execute_result"
    }
   ],
   "source": [
    "# function to find the no of lines inthe input file\n",
    "# input -- filename(file2.txt)\n",
    "# outout -- no of lines(12)\n",
    "def countoflines(filename):\n",
    "    with open(filename,'r') as f:\n",
    "        if f.mode == 'r':\n",
    "            x = f.read()\n",
    "            li = x.split(\"\\n\")\n",
    "    return len(li)\n",
    "filename = input('enter filename :')\n",
    "countoflines(filename)"
   ]
  },
  {
   "cell_type": "code",
   "execution_count": 10,
   "metadata": {},
   "outputs": [
    {
     "name": "stdout",
     "output_type": "stream",
     "text": [
      "enter the filename :file2.txt\n"
     ]
    },
    {
     "data": {
      "text/plain": [
       "'uppper case = 0 , lower case = 228'"
      ]
     },
     "execution_count": 10,
     "metadata": {},
     "output_type": "execute_result"
    }
   ],
   "source": [
    "#function to print the upper and lower charactors\n",
    "def casecount(filename):\n",
    "    cntupper = 0\n",
    "    cntlower = 0\n",
    "    with open(filename,'r') as f:\n",
    "        if f.mode == 'r':\n",
    "            x = f.read()\n",
    "            li = list(x)\n",
    "    for i in li:\n",
    "        if i.isupper():\n",
    "            cntupper += 1 # cnt upper = cnt upper+1\n",
    "        elif i.islower():\n",
    "            cntlower += 1 #cnt lower + 1\n",
    "    output = 'uppper case = {0} , lower case = {1}'.format(cntupper,cntlower)\n",
    "    return output\n",
    "filename = input('enter the filename :')\n",
    "casecount(filename)"
   ]
  },
  {
   "cell_type": "markdown",
   "metadata": {},
   "source": [
    "# math,random,os\n",
    "-- os package it contains methods which workswith os\n"
   ]
  },
  {
   "cell_type": "code",
   "execution_count": 11,
   "metadata": {},
   "outputs": [
    {
     "name": "stdout",
     "output_type": "stream",
     "text": [
      " Volume in drive C has no label.\n",
      " Volume Serial Number is 90F6-AEB1\n",
      "\n",
      " Directory of C:\\Users\\STUDENT\n",
      "\n",
      "11-07-2019  12:35    <DIR>          .\n",
      "11-07-2019  12:35    <DIR>          ..\n",
      "21-06-2019  12:51    <DIR>          .anaconda\n",
      "25-06-2019  15:14             2,125 .bash_history\n",
      "29-06-2019  15:34    <DIR>          .conda\n",
      "29-06-2019  09:00                43 .condarc\n",
      "19-06-2019  15:40                20 .gitconfig\n",
      "29-06-2019  10:33    <DIR>          .idlerc\n",
      "11-07-2019  09:11    <DIR>          .ipynb_checkpoints\n",
      "21-06-2019  12:52    <DIR>          .ipython\n",
      "21-06-2019  14:39    <DIR>          .jupyter\n",
      "28-06-2019  15:49    <DIR>          .matplotlib\n",
      "21-06-2019  12:16    <DIR>          Anaconda3\n",
      "17-06-2019  11:49    <DIR>          Contacts\n",
      "22-06-2019  15:59            15,320 Control flow.ipynb\n",
      "25-06-2019  09:29    <DIR>          day 7\n",
      "25-06-2019  16:04    <DIR>          Day 8\n",
      "26-06-2019  17:25    <DIR>          Day 9\n",
      "11-07-2019  09:44    <DIR>          Desktop\n",
      "10-07-2019  16:56    <DIR>          Documents\n",
      "08-07-2019  16:48    <DIR>          Downloads\n",
      "17-06-2019  11:49    <DIR>          Favorites\n",
      "11-07-2019  10:01                12 file1.txt\n",
      "11-07-2019  10:19               372 file2.txt\n",
      "19-06-2019  12:58    <DIR>          Gitam-june-2019\n",
      "17-06-2019  11:49    <DIR>          Links\n",
      "17-06-2019  11:49    <DIR>          Music\n",
      "17-06-2019  11:49    <DIR>          Pictures\n",
      "21-06-2019  16:33    <DIR>          PYTHON\n",
      "08-07-2019  09:24               783 python - july8.ipynb\n",
      "10-07-2019  16:51            22,524 python july10.ipynb\n",
      "11-07-2019  12:35            14,164 python july11.ipynb\n",
      "09-07-2019  15:51            14,951 python july9.ipynb\n",
      "22-06-2019  09:43    <DIR>          python2\n",
      "21-06-2019  17:38             6,978 PYTHON2019.ipynb\n",
      "11-07-2019  10:32                16 pythonjuly\n",
      "08-07-2019  16:04            10,712 pythosession - july8.ipynb\n",
      "17-06-2019  11:49    <DIR>          Saved Games\n",
      "17-06-2019  11:49    <DIR>          Searches\n",
      "28-06-2019  10:26    <DIR>          Untitled Folder 1\n",
      "21-06-2019  12:54               798 Untitled.ipynb\n",
      "21-06-2019  15:25               555 Untitled1.ipynb\n",
      "24-06-2019  16:48               555 Untitled2.ipynb\n",
      "24-06-2019  17:22             1,297 Untitled3.ipynb\n",
      "25-06-2019  17:31             3,898 Untitled4.ipynb\n",
      "28-06-2019  10:28               555 Untitled5.ipynb\n",
      "06-07-2019  09:17                72 Untitled6.ipynb\n",
      "29-06-2019  10:15    <DIR>          Vamshi\n",
      "17-06-2019  11:49    <DIR>          Videos\n",
      "              20 File(s)         95,750 bytes\n",
      "              29 Dir(s)  69,523,050,496 bytes free\n"
     ]
    }
   ],
   "source": [
    "ls"
   ]
  },
  {
   "cell_type": "code",
   "execution_count": 17,
   "metadata": {},
   "outputs": [
    {
     "name": "stdout",
     "output_type": "stream",
     "text": [
      "[WinError 2] The system cannot find the file specified: 'desktop/pythonprog/'\n",
      "C:\\Users\\STUDENT\n"
     ]
    }
   ],
   "source": [
    "cd desktop/pythonprog/"
   ]
  },
  {
   "cell_type": "code",
   "execution_count": 18,
   "metadata": {},
   "outputs": [
    {
     "ename": "FileNotFoundError",
     "evalue": "[WinError 3] The system cannot find the path specified: 'Git/'",
     "output_type": "error",
     "traceback": [
      "\u001b[1;31m---------------------------------------------------------------------------\u001b[0m",
      "\u001b[1;31mFileNotFoundError\u001b[0m                         Traceback (most recent call last)",
      "\u001b[1;32m<ipython-input-18-c0b7b42cf694>\u001b[0m in \u001b[0;36m<module>\u001b[1;34m\u001b[0m\n\u001b[0;32m      1\u001b[0m \u001b[1;32mimport\u001b[0m \u001b[0mos\u001b[0m\u001b[1;33m\u001b[0m\u001b[1;33m\u001b[0m\u001b[0m\n\u001b[1;32m----> 2\u001b[1;33m \u001b[0mos\u001b[0m\u001b[1;33m.\u001b[0m\u001b[0mlistdir\u001b[0m\u001b[1;33m(\u001b[0m\u001b[1;34m'Git/'\u001b[0m\u001b[1;33m)\u001b[0m\u001b[1;33m\u001b[0m\u001b[1;33m\u001b[0m\u001b[0m\n\u001b[0m",
      "\u001b[1;31mFileNotFoundError\u001b[0m: [WinError 3] The system cannot find the path specified: 'Git/'"
     ]
    }
   ],
   "source": [
    "import os\n",
    "os.listdir('Git/')"
   ]
  },
  {
   "cell_type": "markdown",
   "metadata": {},
   "source": [
    "### older version python --os.listdir()\n",
    "##New version python -- os.scandir() and pathlib.path()\n"
   ]
  },
  {
   "cell_type": "code",
   "execution_count": null,
   "metadata": {},
   "outputs": [],
   "source": []
  },
  {
   "cell_type": "code",
   "execution_count": null,
   "metadata": {},
   "outputs": [],
   "source": []
  },
  {
   "cell_type": "code",
   "execution_count": null,
   "metadata": {},
   "outputs": [],
   "source": []
  },
  {
   "cell_type": "code",
   "execution_count": null,
   "metadata": {},
   "outputs": [],
   "source": []
  },
  {
   "cell_type": "code",
   "execution_count": null,
   "metadata": {},
   "outputs": [],
   "source": []
  },
  {
   "cell_type": "code",
   "execution_count": null,
   "metadata": {},
   "outputs": [],
   "source": []
  },
  {
   "cell_type": "code",
   "execution_count": null,
   "metadata": {},
   "outputs": [],
   "source": []
  },
  {
   "cell_type": "code",
   "execution_count": null,
   "metadata": {},
   "outputs": [],
   "source": []
  },
  {
   "cell_type": "code",
   "execution_count": null,
   "metadata": {},
   "outputs": [],
   "source": []
  },
  {
   "cell_type": "code",
   "execution_count": null,
   "metadata": {},
   "outputs": [],
   "source": []
  }
 ],
 "metadata": {
  "kernelspec": {
   "display_name": "Python 3",
   "language": "python",
   "name": "python3"
  },
  "language_info": {
   "codemirror_mode": {
    "name": "ipython",
    "version": 3
   },
   "file_extension": ".py",
   "mimetype": "text/x-python",
   "name": "python",
   "nbconvert_exporter": "python",
   "pygments_lexer": "ipython3",
   "version": "3.7.3"
  }
 },
 "nbformat": 4,
 "nbformat_minor": 2
}
